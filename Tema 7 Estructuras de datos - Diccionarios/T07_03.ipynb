{
  "nbformat": 4,
  "nbformat_minor": 0,
  "metadata": {
    "colab": {
      "provenance": [],
      "collapsed_sections": []
    },
    "kernelspec": {
      "name": "python3",
      "display_name": "Python 3"
    }
  },
  "cells": [
    {
      "cell_type": "markdown",
      "metadata": {
        "id": "oNzW4VWQBoR-"
      },
      "source": [
        "# Ejercicio\n",
        "\n",
        "Dado un diccionario, vamos a solicitar al usuario una clave que quiera eliminar y vamos a eliminarla. Al final, le mostraremos el diccionario actualizado."
      ]
    },
    {
      "cell_type": "code",
      "metadata": {
        "id": "kA1GzCZFFKIY",
        "colab": {
          "base_uri": "https://localhost:8080/"
        },
        "outputId": "b47afbf8-832a-4cce-b14c-7b9f2750c3b9"
      },
      "source": [
        "dicc = {\"a\": 1, \"e\": 2, \"i\": 3, \"o\": 4, \"u\": 5}\n",
        "print(\"Este es el diccionario original:\", dicc)\n",
        "\n",
        "key = input(\"\\nIntroduce la clave que quieras eliminar del diccionario: \")\n",
        "\n",
        "dicc.pop(key)\n",
        "print(\"\\nEste es el diccionario actualizado\", dicc)"
      ],
      "execution_count": null,
      "outputs": [
        {
          "output_type": "stream",
          "text": [
            "Este es el diccionario original: {'a': 1, 'e': 2, 'i': 3, 'o': 4, 'u': 5}\n",
            "\n",
            "Introduce la clave que quieras eliminar del diccionario: i\n",
            "\n",
            "Este es el diccionario actualizado {'a': 1, 'e': 2, 'o': 4, 'u': 5}\n"
          ],
          "name": "stdout"
        }
      ]
    }
  ]
}