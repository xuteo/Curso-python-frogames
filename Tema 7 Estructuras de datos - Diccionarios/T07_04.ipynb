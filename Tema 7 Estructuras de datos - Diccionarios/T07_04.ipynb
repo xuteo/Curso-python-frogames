{
  "nbformat": 4,
  "nbformat_minor": 0,
  "metadata": {
    "colab": {
      "provenance": [],
      "collapsed_sections": []
    },
    "kernelspec": {
      "name": "python3",
      "display_name": "Python 3"
    }
  },
  "cells": [
    {
      "cell_type": "markdown",
      "metadata": {
        "id": "q1IM0zRsB18B"
      },
      "source": [
        "# Ejercicio\n",
        "\n",
        "Vamos a solicitar al usuario 8 números enteros del 0 al 9. Se supone que son los números de su DNI, que guardaremos cada uno en una entrada de una lista. A continuación, con esos números [calcularemos la letra correspondiente](https://www.serautonomo.net/como-calcular-la-letra-del-dni.html) y la guardaremos en una variable. Finalmente, crearemos un diccionario con dos claves, cada una guardará, respectivamente, los números y la letra del DNI. Finalmente, mostraremos el diccionario resultante."
      ]
    },
    {
      "cell_type": "code",
      "metadata": {
        "id": "huXb-7yHA1xs",
        "colab": {
          "base_uri": "https://localhost:8080/"
        },
        "outputId": "e8bcd016-8b53-4c99-f38b-c42200a3b2bd"
      },
      "source": [
        "print(\"Introduce los números del DNI uno por uno:\")\n",
        "nums = []\n",
        "for _ in range(8):\n",
        "  nums.append(int(input()))\n",
        "\n",
        "dni = 0\n",
        "for i in range(len(nums)):\n",
        "  dni += 10 ** (len(nums) - i - 1) * nums[i]\n",
        "\n",
        "letters = {0: \"T\", 1: \"R\", 2: \"W\", 3: \"A\", 4: \"G\", 5: \"M\", 6: \"Y\",\n",
        "           7: \"F\", 8: \"P\", 9: \"D\", 10: \"X\", 11: \"B\", 12: \"N\", 13: \"J\",\n",
        "           14: \"Z\", 15: \"S\", 16: \"Q\", 17: \"V\", 18: \"H\", 19: \"L\", 20: \"C\",\n",
        "           21: \"K\", 22: \"E\"}\n",
        "\n",
        "letter = letters[dni % 23]\n",
        "\n",
        "DNI = {\"numbers\": nums, \"letter\": letter}\n",
        "print(DNI)"
      ],
      "execution_count": null,
      "outputs": [
        {
          "output_type": "stream",
          "text": [
            "Introduce los números del DNI uno por uno:\n",
            "1\n",
            "2\n",
            "3\n",
            "4\n",
            "5\n",
            "6\n",
            "7\n",
            "8\n",
            "{'numbers': [1, 2, 3, 4, 5, 6, 7, 8], 'letter': 'Z'}\n"
          ],
          "name": "stdout"
        }
      ]
    }
  ]
}