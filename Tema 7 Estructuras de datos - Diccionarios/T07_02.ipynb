{
  "nbformat": 4,
  "nbformat_minor": 0,
  "metadata": {
    "colab": {
      "provenance": [],
      "collapsed_sections": []
    },
    "kernelspec": {
      "name": "python3",
      "display_name": "Python 3"
    }
  },
  "cells": [
    {
      "cell_type": "markdown",
      "metadata": {
        "id": "PhloJgaYA4Ye"
      },
      "source": [
        "# Ejercicio\n",
        "\n",
        "Tenemos un diccionario con 5 claves: `Math`, `English`, `History`, `Science`, `IT`. Cada clave contiene una lista de tamaño 3, donde cada una de esas entradas se corresponde con una nota de 0 a 10. El usuario va a ser quien introduzca esas notas por teclado. Finalmente, para cada clave, mostraremos la media de las 3 notas.\n",
        "\n",
        "PISTA: Necesitarás la función `sum()`."
      ]
    },
    {
      "cell_type": "code",
      "metadata": {
        "id": "IJ7skcszAzN1",
        "colab": {
          "base_uri": "https://localhost:8080/"
        },
        "outputId": "f5a193b6-d428-4719-b703-a2c34b461638"
      },
      "source": [
        "subjects = {\"Math\": [],\n",
        "            \"English\": [],\n",
        "            \"History\": [],\n",
        "            \"Science\": [],\n",
        "            \"IT\": []}\n",
        "\n",
        "for key in subjects:\n",
        "  print(\"===\", key, \"===\")\n",
        "  for i in range(1, 4):\n",
        "    subjects[key].append(int(input(\"Nota trimestre {} \".format(i))))\n",
        "\n",
        "print(\"\\n Medias por asignatura:\")\n",
        "for key, val in subjects.items():\n",
        "  print(key, \":\", sum(val)/len(val))"
      ],
      "execution_count": null,
      "outputs": [
        {
          "output_type": "stream",
          "text": [
            "=== Math ===\n",
            "Nota trimestre 1 8\n",
            "Nota trimestre 2 9\n",
            "Nota trimestre 3 10\n",
            "=== English ===\n",
            "Nota trimestre 1 6\n",
            "Nota trimestre 2 7\n",
            "Nota trimestre 3 8\n",
            "=== History ===\n",
            "Nota trimestre 1 7\n",
            "Nota trimestre 2 7\n",
            "Nota trimestre 3 7\n",
            "=== Science ===\n",
            "Nota trimestre 1 8\n",
            "Nota trimestre 2 8\n",
            "Nota trimestre 3 8\n",
            "=== IT ===\n",
            "Nota trimestre 1 9\n",
            "Nota trimestre 2 10\n",
            "Nota trimestre 3 10\n",
            "\n",
            " Medias por asignatura:\n",
            "Math : 9.0\n",
            "English : 7.0\n",
            "History : 7.0\n",
            "Science : 8.0\n",
            "IT : 9.666666666666666\n",
            "{'Math': [8, 9, 10], 'English': [6, 7, 8], 'History': [7, 7, 7], 'Science': [8, 8, 8], 'IT': [9, 10, 10]}\n"
          ],
          "name": "stdout"
        }
      ]
    }
  ]
}