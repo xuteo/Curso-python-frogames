{
  "nbformat": 4,
  "nbformat_minor": 0,
  "metadata": {
    "colab": {
      "provenance": [],
      "collapsed_sections": []
    },
    "kernelspec": {
      "name": "python3",
      "display_name": "Python 3"
    }
  },
  "cells": [
    {
      "cell_type": "markdown",
      "metadata": {
        "id": "2N4tH3nPAT2I"
      },
      "source": [
        "# Ejercicio\n",
        "\n",
        "Vamos a hacer que el usuario rellene una ficha del cliente y vamos a guardar toda la información en un diccionario. Para ello, vamos a pedir el nombre, los apellidos, la edad, el dni y el dinero total que va a pagar el cliente."
      ]
    },
    {
      "cell_type": "code",
      "metadata": {
        "id": "ujtfPG2VATHs",
        "colab": {
          "base_uri": "https://localhost:8080/"
        },
        "outputId": "cd2b5b95-cb93-4133-fe43-ecb99b9cd137"
      },
      "source": [
        "client = {}\n",
        "print(\"Introduzca el nombre del cliente: \")\n",
        "client[\"name\"] = str(input())\n",
        "print(\"Introduzca los apellidos del cliente: \")\n",
        "client[\"surname\"] = str(input())\n",
        "print(\"Introduzca la edad del cliente: \")\n",
        "client[\"age\"] = int(input())\n",
        "print(\"Introduzca el DNI del cliente: \")\n",
        "client[\"dni\"] = str(input())\n",
        "print(\"Introduzca el total a pagar del cliente: \")\n",
        "client[\"total\"] = float(input())\n",
        "\n",
        "print(client)"
      ],
      "execution_count": null,
      "outputs": [
        {
          "output_type": "stream",
          "text": [
            "Introduzca el nombre del cliente: \n",
            "Manuel\n",
            "Introduzca los apellidos del cliente: \n",
            "Gómez Carmona\n",
            "Introduzca la edad del cliente: \n",
            "45\n",
            "Introduzca el DNI del cliente: \n",
            "12345678K\n",
            "Introduzca el total a pagar del cliente: \n",
            "557.99\n",
            "{'name': 'Manuel', 'surname': 'Gómez Carmona', 'age': 45, 'dni': '12345678K', 'total': 557.99}\n"
          ],
          "name": "stdout"
        }
      ]
    }
  ]
}