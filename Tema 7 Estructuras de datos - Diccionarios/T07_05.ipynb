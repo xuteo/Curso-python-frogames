{
  "nbformat": 4,
  "nbformat_minor": 0,
  "metadata": {
    "colab": {
      "provenance": [],
      "collapsed_sections": []
    },
    "kernelspec": {
      "name": "python3",
      "display_name": "Python 3"
    }
  },
  "cells": [
    {
      "cell_type": "markdown",
      "metadata": {
        "id": "NZ-dzHcyCVBz"
      },
      "source": [
        "# Ejercicio\n",
        "\n",
        "Vamos a leer un string por teclado y vamos a devolver un diccionario con la cantidad de apariciones de cada caracter en el string proporcionado por el usuario."
      ]
    },
    {
      "cell_type": "code",
      "metadata": {
        "colab": {
          "base_uri": "https://localhost:8080/"
        },
        "id": "rAJ7I_htnq_Y",
        "outputId": "92aeda11-17e0-429e-bfec-ac81e6495941"
      },
      "source": [
        "s = input(\"Introduce una frase: \")\n",
        "counted = []\n",
        "letters = {}\n",
        "\n",
        "s = s.lower()\n",
        "for c in s:\n",
        "  if c not in counted and c != \" \":\n",
        "    counted.append(c)\n",
        "    letters[c.upper()] = s.count(c)\n",
        "\n",
        "print(letters)"
      ],
      "execution_count": null,
      "outputs": [
        {
          "output_type": "stream",
          "text": [
            "Introduce una frase: mi mamá me mima esa es mi mamá\n",
            "{'M': 9, 'I': 3, 'A': 4, 'Á': 2, 'E': 3, 'S': 2}\n"
          ],
          "name": "stdout"
        }
      ]
    },
    {
      "cell_type": "code",
      "metadata": {
        "colab": {
          "base_uri": "https://localhost:8080/"
        },
        "id": "XZDQp4fL5ftx",
        "outputId": "c78191a7-6e90-41c7-bff7-d592ce739f73"
      },
      "source": [
        "counted"
      ],
      "execution_count": null,
      "outputs": [
        {
          "output_type": "execute_result",
          "data": {
            "text/plain": [
              "['m', 'i', 'a', 'á', 'e', 's']"
            ]
          },
          "metadata": {
            "tags": []
          },
          "execution_count": 2
        }
      ]
    }
  ]
}